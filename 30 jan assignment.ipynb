{
 "cells": [
  {
   "cell_type": "markdown",
   "id": "8fc0e4af-7631-4dc7-ad81-204a1f99e85b",
   "metadata": {},
   "source": [
    "# jan30 assignment"
   ]
  },
  {
   "cell_type": "code",
   "execution_count": null,
   "id": "9070645a-4152-4b25-b537-9333ce4520d7",
   "metadata": {},
   "outputs": [],
   "source": [
    "#question1:\n",
    "n=int(input())\n",
    "if n>90:\n",
    "    print(\"A\")\n",
    "elif n>80 and n<=90:\n",
    "    print(\"B\")\n",
    "elif n>=60 and n<=80:\n",
    "    print(\"C\")\n",
    "else:\n",
    "    print(\"D\")"
   ]
  },
  {
   "cell_type": "code",
   "execution_count": 2,
   "id": "bf659072-8dce-461d-95ce-10f8567e6ba8",
   "metadata": {},
   "outputs": [
    {
     "name": "stdin",
     "output_type": "stream",
     "text": [
      " 120000\n"
     ]
    },
    {
     "name": "stdout",
     "output_type": "stream",
     "text": [
      "18000.0\n"
     ]
    }
   ],
   "source": [
    "#question 2\n",
    "n=int(input())\n",
    "if n>100000:\n",
    "    print(0.15*n)\n",
    "elif n>50000 and n<=100000:\n",
    "    print(0.10*n)\n",
    "else:\n",
    "    print(0.05*n)"
   ]
  },
  {
   "cell_type": "code",
   "execution_count": null,
   "id": "17106074-3ec0-4f1a-a255-bb79f489c7e6",
   "metadata": {},
   "outputs": [],
   "source": []
  },
  {
   "cell_type": "code",
   "execution_count": 3,
   "id": "d413e575-2f9f-4ce7-8d4f-6dd6948b957e",
   "metadata": {},
   "outputs": [
    {
     "name": "stdin",
     "output_type": "stream",
     "text": [
      " Delhi\n"
     ]
    },
    {
     "name": "stdout",
     "output_type": "stream",
     "text": [
      "Red Fort\n"
     ]
    }
   ],
   "source": [
    "#question 3\n",
    "s=input()\n",
    "if s==\"Delhi\":\n",
    "    print(\"Red Fort\")\n",
    "elif s==\"Agra\":\n",
    "    print(\"Taj mahal\")\n",
    "elif s==\"Jaipur\":\n",
    "    print(\"Jai Mahal\")\n",
    "else:\n",
    "    pass"
   ]
  },
  {
   "cell_type": "code",
   "execution_count": null,
   "id": "277ff2db-8d32-42c5-8d19-b7a88128bf06",
   "metadata": {},
   "outputs": [],
   "source": [
    "#question 4\n",
    "n=int(input())\n",
    "c=0\n",
    "while n>=10:\n",
    "    if n%3==0:\n",
    "        c+=1\n",
    "    else:\n",
    "        pass\n",
    "    n=n//3\n",
    "print(c)"
   ]
  },
  {
   "cell_type": "code",
   "execution_count": null,
   "id": "a2969d71-72f5-4a26-a26d-53d6deececef",
   "metadata": {},
   "outputs": [],
   "source": [
    "#question 5\n",
    "\"\"\"Python while loop is used to run a block code until a certain condition is met. \n",
    "Here, A while loop evaluates the condition. \n",
    "If the condition evaluates to True , the code inside the while loop is executed.\n",
    "syntax:\n",
    "Here,\n",
    "\n",
    "A while loop evaluates the condition\n",
    "If the condition evaluates to True, the code inside the while loop is executed.\n",
    "condition is evaluated again.\n",
    "This process continues until the condition is False.\n",
    "When condition evaluates to False, the loop stops.\"\"\"\n",
    "while condition:\n",
    "    # body of while loop\n",
    "# program to display numbers from 1 to 5\n",
    "\n",
    "# initialize the variable\n",
    "i = 1\n",
    "n = 5\n",
    "\n",
    "# while loop from i = 1 to 5\n",
    "while i <= n:\n",
    "    print(i)\n",
    "    i = i + 1\n",
    "#example 2:\n",
    "total = 0\n",
    "\n",
    "number = int(input('Enter a number: '))\n",
    "\n",
    "# add numbers until number is zero\n",
    "while number != 0:\n",
    "    total += number    # total = total + number\n",
    "    \n",
    "    # take integer input again\n",
    "    number = int(input('Enter a number: '))\n",
    "    \n",
    "\n",
    "print('total =', total)\n",
    "#example 3\n",
    "age = 32\n",
    "\n",
    "# the test condition is always True\n",
    "while age > 18:\n",
    "    print('You can vote')"
   ]
  },
  {
   "cell_type": "code",
   "execution_count": null,
   "id": "732b5a71-95a0-4905-9c68-8c56530b8034",
   "metadata": {},
   "outputs": [],
   "source": [
    "#question 6\n",
    "rows = 5\n",
    "i = 1\n",
    "while i <= rows:\n",
    "    j = 1\n",
    "    while j <= i:\n",
    "        print((i * 2 - 1), end=\" \")\n",
    "        j = j + 1\n",
    "    i = i + 1\n",
    "    print('')\n"
   ]
  },
  {
   "cell_type": "code",
   "execution_count": null,
   "id": "69682bed-c40e-4186-8253-7f419f5d2cdd",
   "metadata": {},
   "outputs": [],
   "source": [
    "rows = 5\n",
    "i = rows\n",
    "while i >= 1:\n",
    "    j = rows\n",
    "    while j > i:\n",
    "        # display space\n",
    "        print(' ', end=' ')\n",
    "        j -= 1\n",
    "    k = 1\n",
    "    while k <= i:\n",
    "        print('*', end=' ')\n",
    "        k += 1\n",
    "    print()\n",
    "    i -= 1"
   ]
  },
  {
   "cell_type": "code",
   "execution_count": null,
   "id": "d0f83e53-72ff-431a-b39e-165418275a29",
   "metadata": {},
   "outputs": [],
   "source": [
    "rows = 14\n",
    "print(\"*\" * rows, end=\"\\n\")\n",
    "i = (rows // 2) - 1\n",
    "j = 2\n",
    "while i != 0:\n",
    "    while j <= (rows - 2):\n",
    "        print(\"*\" * i, end=\"\")\n",
    "        print(\"_\" * j, end=\"\")\n",
    "        print(\"*\" * i, end=\"\\n\")\n",
    "        i = i - 1\n",
    "        j = j + 2"
   ]
  },
  {
   "cell_type": "code",
   "execution_count": null,
   "id": "b5fa1005-9856-4da2-80be-39b6eae08316",
   "metadata": {},
   "outputs": [],
   "source": [
    "#question 7\n",
    "i = 10\n",
    "while i > 0:\n",
    "    print(i)\n",
    "    i = i - 1"
   ]
  },
  {
   "cell_type": "code",
   "execution_count": null,
   "id": "9c13db6f-03fe-432e-8912-2d9d445c5e12",
   "metadata": {},
   "outputs": [],
   "source": [
    "#question 8\n",
    "i = 10\n",
    "while i > 0:\n",
    "    print(i)\n",
    "    i = i - 1"
   ]
  }
 ],
 "metadata": {
  "kernelspec": {
   "display_name": "Python 3 (ipykernel)",
   "language": "python",
   "name": "python3"
  },
  "language_info": {
   "codemirror_mode": {
    "name": "ipython",
    "version": 3
   },
   "file_extension": ".py",
   "mimetype": "text/x-python",
   "name": "python",
   "nbconvert_exporter": "python",
   "pygments_lexer": "ipython3",
   "version": "3.10.8"
  }
 },
 "nbformat": 4,
 "nbformat_minor": 5
}
